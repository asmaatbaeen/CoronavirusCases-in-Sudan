{
 "cells": [
  {
   "cell_type": "code",
   "execution_count": 1,
   "metadata": {},
   "outputs": [],
   "source": [
    "import warnings\n",
    "import itertools\n",
    "import numpy as np\n",
    "import matplotlib.pyplot as plt\n",
    "warnings.filterwarnings(\"ignore\")\n",
    "plt.style.use('fivethirtyeight')\n",
    "import pandas as pd\n",
    "import statsmodels.api as sm\n",
    "import matplotlib\n",
    "import os\n",
    "import seaborn as sns\n",
    "from datetime import datetime\n",
    "from textwrap import wrap\n",
    "from matplotlib import ticker\n",
    "\n",
    "\n",
    "%matplotlib inline\n",
    "\n",
    "matplotlib.rcParams['axes.labelsize'] = 14\n",
    "matplotlib.rcParams['xtick.labelsize'] = 12\n",
    "matplotlib.rcParams['ytick.labelsize'] = 12\n",
    "matplotlib.rcParams['text.color'] = 'k'"
   ]
  },
  {
   "cell_type": "markdown",
   "metadata": {},
   "source": [
    "We are going to do time series analysis and forecasting for furniture sales."
   ]
  },
  {
   "cell_type": "code",
   "execution_count": 2,
   "metadata": {},
   "outputs": [
    {
     "data": {
      "text/html": [
       "<div>\n",
       "<style scoped>\n",
       "    .dataframe tbody tr th:only-of-type {\n",
       "        vertical-align: middle;\n",
       "    }\n",
       "\n",
       "    .dataframe tbody tr th {\n",
       "        vertical-align: top;\n",
       "    }\n",
       "\n",
       "    .dataframe thead th {\n",
       "        text-align: right;\n",
       "    }\n",
       "</style>\n",
       "<table border=\"1\" class=\"dataframe\">\n",
       "  <thead>\n",
       "    <tr style=\"text-align: right;\">\n",
       "      <th></th>\n",
       "      <th>Date</th>\n",
       "      <th>Cases</th>\n",
       "    </tr>\n",
       "  </thead>\n",
       "  <tbody>\n",
       "    <tr>\n",
       "      <th>0</th>\n",
       "      <td>2020-03-01</td>\n",
       "      <td>1</td>\n",
       "    </tr>\n",
       "    <tr>\n",
       "      <th>1</th>\n",
       "      <td>2020-03-12</td>\n",
       "      <td>1</td>\n",
       "    </tr>\n",
       "    <tr>\n",
       "      <th>2</th>\n",
       "      <td>2020-03-19</td>\n",
       "      <td>1</td>\n",
       "    </tr>\n",
       "    <tr>\n",
       "      <th>3</th>\n",
       "      <td>2020-03-23</td>\n",
       "      <td>1</td>\n",
       "    </tr>\n",
       "    <tr>\n",
       "      <th>4</th>\n",
       "      <td>2020-03-27</td>\n",
       "      <td>2</td>\n",
       "    </tr>\n",
       "  </tbody>\n",
       "</table>\n",
       "</div>"
      ],
      "text/plain": [
       "         Date  Cases\n",
       "0  2020-03-01      1\n",
       "1  2020-03-12      1\n",
       "2  2020-03-19      1\n",
       "3  2020-03-23      1\n",
       "4  2020-03-27      2"
      ]
     },
     "execution_count": 2,
     "metadata": {},
     "output_type": "execute_result"
    }
   ],
   "source": [
    "#print(os.listdir('../data'))\n",
    "df = pd.read_csv('../data/NumberConfirmedOfCases.csv')\n",
    "df['Date'] = df.apply(lambda x: datetime.strptime(x['Date'], '%Y-%m-%d').date(), axis=1) #convert the date\n",
    "df = df.groupby('Date')['Cases'].sum().reset_index() #group the data\n",
    "df.head()"
   ]
  },
  {
   "cell_type": "code",
   "execution_count": 3,
   "metadata": {},
   "outputs": [],
   "source": [
    "import datetime\n",
    "df['Date'] = pd.to_datetime(df['Date'])\n",
    "df['Date'] = df['Date'].map(datetime.datetime.toordinal)\n",
    "#sns.lmplot(x =\"Date\", y =\"Cases\", data = df, order = 2, ci = None) \n",
    "\n",
    "# Plotting the data scatter \n",
    "#print(df['Date'])"
   ]
  },
  {
   "cell_type": "code",
   "execution_count": 4,
   "metadata": {},
   "outputs": [
    {
     "name": "stdout",
     "output_type": "stream",
     "text": [
      "Estimated coefficients:\n",
      "b_0 = -1277764.2506298923 \\ \n",
      "b_1 = 1.732533799545197\n"
     ]
    },
    {
     "data": {
      "image/png": "[encoded data removed]",
      "text/plain": [
       "<Figure size 432x288 with 1 Axes>"
      ]
     },
     "metadata": {
      "needs_background": "light"
     },
     "output_type": "display_data"
    }
   ],
   "source": [
    "def estimate_coef(x, y): \n",
    " # number of observations/points \n",
    "    n = np.size(x) \n",
    "\n",
    "    # mean of x and y vector \n",
    "    m_x, m_y = np.mean(x), np.mean(y) \n",
    "\n",
    "    # calculating cross-deviation and deviation about x \n",
    "    SS_xy = np.sum(y*x) - n*m_y*m_x \n",
    "    SS_xx = np.sum(x*x) - n*m_x*m_x \n",
    "\n",
    "    # calculating regression coefficients \n",
    "    b_1 = SS_xy / SS_xx \n",
    "    b_0 = m_y - b_1*m_x \n",
    "\n",
    "    return(b_0, b_1) \n",
    "\n",
    "def plot_regression_line(x, y, b): \n",
    "    # plotting the actual points as scatter plot \n",
    "    plt.scatter(x, y, color = \"m\", \n",
    "            marker = \"o\", s = 30) \n",
    "\n",
    "    # predicted response vector \n",
    "    y_pred = b[0] + b[1]*x \n",
    "\n",
    "    # plotting the regression line \n",
    "    plt.plot(x, y_pred, color = \"g\") \n",
    "\n",
    "    # putting labels \n",
    "    plt.xlabel('x') \n",
    "    plt.ylabel('y') \n",
    "\n",
    "    # function to show plot \n",
    "    plt.show() \n",
    "\n",
    "def main(): \n",
    "    # observations \n",
    "    x = df['Date']\n",
    "    y = df['Cases']\n",
    "\n",
    "    # estimating coefficients \n",
    "    b = estimate_coef(x, y) \n",
    "    print(\"Estimated coefficients:\\nb_0 = {} \\ \\nb_1 = {}\".format(b[0], b[1])) \n",
    "\n",
    "    # plotting regression line \n",
    "    plot_regression_line(x, y, b) \n",
    "\n",
    "if __name__ == \"__main__\": \n",
    "    main() \n"
   ]
  },
  {
   "cell_type": "code",
   "execution_count": null,
   "metadata": {},
   "outputs": [],
   "source": []
  },
  {
   "cell_type": "code",
   "execution_count": 5,
   "metadata": {},
   "outputs": [
    {
     "name": "stdout",
     "output_type": "stream",
     "text": [
      "Intercept   -46.561469\n",
      "date          1.732534\n",
      "dtype: float64\n",
      "------------------\n",
      "------------------\n",
      "Intercept    1.975727e-03\n",
      "date         7.791632e-07\n",
      "dtype: float64\n",
      "------------------\n",
      "------------------\n",
      "0.5388328144052601\n",
      "                            OLS Regression Results                            \n",
      "==============================================================================\n",
      "Dep. Variable:                  Cases   R-squared:                       0.539\n",
      "Model:                            OLS   Adj. R-squared:                  0.524\n",
      "Method:                 Least Squares   F-statistic:                     37.39\n",
      "Date:                Sat, 09 May 2020   Prob (F-statistic):           7.79e-07\n",
      "Time:                        18:28:46   Log-Likelihood:                -160.45\n",
      "No. Observations:                  34   AIC:                             324.9\n",
      "Df Residuals:                      32   BIC:                             328.0\n",
      "Df Model:                           1                                         \n",
      "Covariance Type:            nonrobust                                         \n",
      "==============================================================================\n",
      "                 coef    std err          t      P>|t|      [0.025      0.975]\n",
      "------------------------------------------------------------------------------\n",
      "Intercept    -46.5615     13.817     -3.370      0.002     -74.706     -18.417\n",
      "date           1.7325      0.283      6.115      0.000       1.155       2.310\n",
      "==============================================================================\n",
      "Omnibus:                       29.686   Durbin-Watson:                   0.676\n",
      "Prob(Omnibus):                  0.000   Jarque-Bera (JB):               67.212\n",
      "Skew:                           2.028   Prob(JB):                     2.54e-15\n",
      "Kurtosis:                       8.568   Cond. No.                         141.\n",
      "==============================================================================\n",
      "\n",
      "Warnings:\n",
      "[1] Standard Errors assume that the covariance matrix of the errors is correctly specified.\n"
     ]
    }
   ],
   "source": [
    "import pandas as pd\n",
    "\n",
    "from pandas import DataFrame, Series\n",
    "\n",
    "import statsmodels.formula.api as sm\n",
    "#print(os.listdir('../data'))\n",
    "df = pd.read_csv('../data/NumberConfirmedOfCases.csv')\n",
    "df = df.groupby('Date')['Cases'].sum().reset_index() #group the data\n",
    "#print(df.head())\n",
    "df['Date'] = pd.to_datetime(df['Date'])    \n",
    "df['date'] = (df['Date'] - df['Date'].min())  / np.timedelta64(1,'D') \n",
    "\n",
    "#different formulas to convert the dates gives different coef, look at the date values.\n",
    "\n",
    "#df['date'] = df['Date'].map(datetime.datetime.toordinal)\n",
    "#print(df['date'])\n",
    "result = sm.ols(formula = 'Cases ~ date', data = df).fit()\n",
    "print(result.params)\n",
    "print('------------------')\n",
    "print('------------------')\n",
    "print(result.pvalues)\n",
    "print('------------------')\n",
    "print('------------------')\n",
    "print(result.rsquared)\n",
    "print(result.summary())"
   ]
  },
  {
   "cell_type": "code",
   "execution_count": null,
   "metadata": {
    "scrolled": false
   },
   "outputs": [],
   "source": []
  },
  {
   "cell_type": "code",
   "execution_count": null,
   "metadata": {},
   "outputs": [],
   "source": []
  }
 ],
 "metadata": {
  "kernelspec": {
   "display_name": "Python 3",
   "language": "python",
   "name": "python3"
  },
  "language_info": {
   "codemirror_mode": {
    "name": "ipython",
    "version": 3
   },
   "file_extension": ".py",
   "mimetype": "text/x-python",
   "name": "python",
   "nbconvert_exporter": "python",
   "pygments_lexer": "ipython3",
   "version": "3.7.3"
  }
 },
 "nbformat": 4,
 "nbformat_minor": 2
}
