{
 "cells": [
  {
   "cell_type": "markdown",
   "metadata": {},
   "source": [
    "## SIR model\n",
    "Theoretical analysis based on estimated parameters"
   ]
  },
  {
   "cell_type": "code",
   "execution_count": 3,
   "metadata": {},
   "outputs": [],
   "source": [
    "import numpy as np\n",
    "from scipy.integrate import odeint\n",
    "import matplotlib.pyplot as plt\n",
    "\n",
    "%matplotlib inline"
   ]
  },
  {
   "cell_type": "code",
   "execution_count": 6,
   "metadata": {},
   "outputs": [
    {
     "data": {
      "image/png": "[encoded data removed]",
      "text/plain": [
       "<Figure size 432x288 with 1 Axes>"
      ]
     },
     "metadata": {},
     "output_type": "display_data"
    }
   ],
   "source": [
    "# Khartoum population szie, P.\n",
    "P = 1974647\n",
    "\n",
    "# Recovery rate, gamma, (in 1/days) and contact rate, beta.\n",
    "Gamma , Beta  = 1/10 , 0.2\n",
    "\n",
    "# I_0 is the number of infected individuals, R_0 the number of recovered individuals \n",
    "#and S_0, is susceptible individuals.\n",
    "I_0, R_0 = 1, 0\n",
    "S_0 = P - I_0 - R_0\n",
    "\n",
    "# Time intrval (in days)\n",
    "time = np.linspace(0, 350, 350)\n",
    "\n",
    "# The SIR model\n",
    "def SIR(y, time, P, Gamma, Beta):\n",
    "    S, I, R = y\n",
    "    dsdt = -Beta * S * I / P\n",
    "    didt = Beta * S * I / P - Gamma * I\n",
    "    drdt = Gamma * I\n",
    "    return(dsdt,didt,drdt)\n",
    "\n",
    "# Initial conditions vector\n",
    "y0 = S_0, I_0, R_0\n",
    "# Integrate the SIR equations over the time grid, time\n",
    "ret = odeint(SIR, y0, time, args=(P, Gamma,Beta))\n",
    "S, I, R = ret.T\n",
    "\n",
    "# Plot S(t), I(t) and R(t) data\n",
    "fig = plt.figure(facecolor='g')\n",
    "ax = fig.add_subplot(111, axisbelow=True)\n",
    "ax.plot(time, S/P, 'b', alpha=1, label='Susceptible')\n",
    "ax.plot(time, I/P, 'r', alpha=1, label='Infected')\n",
    "ax.plot(time, R/P, 'g', alpha=1, label='Recovered \\nwith immunity')\n",
    "plt.title(\"SIR Model Prediction\")\n",
    "ax.set_xlabel('Time /days')\n",
    "#ax.set_ylabel('')\n",
    "ax.set_ylim(-0.1,1.1)\n",
    "ax.yaxis.set_tick_params(length=0)\n",
    "ax.xaxis.set_tick_params(length=0)\n",
    "legend = ax.legend()\n",
    "legend.get_frame().set_alpha(1)\n",
    "plt.show()"
   ]
  },
  {
   "cell_type": "markdown",
   "metadata": {},
   "source": [
    "# About SIR model"
   ]
  },
  {
   "cell_type": "markdown",
   "metadata": {},
   "source": [
    "$SIR$ model is a simple mathematical model to descripe the spread of a disease in a population. In this model we divide the population of $P$ individuals into three categories, susceptible $S$, infectious $I$ and recovered $R$.  We deal with these categories as functions of time $t$. The differential equations which describes this model were first derived by Kermack and McKendrick,\n",
    "\n",
    "\\begin{align*}\n",
    "\\frac{\\mathrm{d}S}{\\mathrm{d}t} &= -\\frac{\\beta S I}{P},\\\\\n",
    "\\frac{\\mathrm{d}I}{\\mathrm{d}t} &= \\frac{\\beta S I}{P} - \\gamma I,\\\\\n",
    "\\frac{\\mathrm{d}R}{\\mathrm{d}t} &= \\gamma I.\n",
    "\\end{align*}\n",
    "\n",
    "Where,\n",
    "\n",
    "$S(t)$ are those susceptible but not yet infected with the disease;\n",
    "$I(t)$ is the number of infectious individuals;\n",
    "$R(t)$ are those individuals who have recovered and now they have immunity to the desease.\n",
    "\n",
    "The $SIR$ model describes the change in the population with time using two parameters, $\\beta$ and $\\gamma$. $\\beta$ describes the effective contact rate of the disease. $\\gamma$ is the recovery rate.\n",
    "\n",
    "Here is a prediction of the spread of the coronavirus using the Khartoum \"capital of Sudan\" population. We used hypothetical values for $\\beta$ and $\\gamma$.\n"
   ]
  },
  {
   "cell_type": "code",
   "execution_count": null,
   "metadata": {},
   "outputs": [],
   "source": []
  }
 ],
 "metadata": {
  "kernelspec": {
   "display_name": "Python 3",
   "language": "python",
   "name": "python3"
  },
  "language_info": {
   "codemirror_mode": {
    "name": "ipython",
    "version": 3
   },
   "file_extension": ".py",
   "mimetype": "text/x-python",
   "name": "python",
   "nbconvert_exporter": "python",
   "pygments_lexer": "ipython3",
   "version": "3.7.3"
  }
 },
 "nbformat": 4,
 "nbformat_minor": 2
}
